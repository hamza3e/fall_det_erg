{
  "nbformat": 4,
  "nbformat_minor": 0,
  "metadata": {
    "colab": {
      "provenance": [],
      "authorship_tag": "ABX9TyOHlFSLFOodA9GJ4zKRhx7Z",
      "include_colab_link": true
    },
    "kernelspec": {
      "name": "python3",
      "display_name": "Python 3"
    },
    "language_info": {
      "name": "python"
    }
  },
  "cells": [
    {
      "cell_type": "markdown",
      "metadata": {
        "id": "view-in-github",
        "colab_type": "text"
      },
      "source": [
        "<a href=\"https://colab.research.google.com/github/hamza3e/fall_det_erg/blob/main/Dataset_Downloads.ipynb\" target=\"_parent\"><img src=\"https://colab.research.google.com/assets/colab-badge.svg\" alt=\"Open In Colab\"/></a>"
      ]
    },
    {
      "cell_type": "markdown",
      "source": [
        "**le2i** from kaggle. kaggle.json file should be added to content folder"
      ],
      "metadata": {
        "id": "_rKgZAwWGzzU"
      }
    },
    {
      "cell_type": "code",
      "execution_count": 1,
      "metadata": {
        "id": "IbY09UTmA8Yy"
      },
      "outputs": [],
      "source": [
        "! pip install -q kaggle"
      ]
    },
    {
      "cell_type": "code",
      "source": [
        "! mkdir ~/.kaggle\n",
        "\n",
        "! cp kaggle.json ~/.kaggle/"
      ],
      "metadata": {
        "id": "10Y_Two1BjAb"
      },
      "execution_count": 2,
      "outputs": []
    },
    {
      "cell_type": "code",
      "source": [
        "! chmod 600 ~/.kaggle/kaggle.json"
      ],
      "metadata": {
        "id": "Lmqwvi5_BuiR"
      },
      "execution_count": 3,
      "outputs": []
    },
    {
      "cell_type": "code",
      "source": [
        "!kaggle datasets download -d 'tuyenldvn/falldataset-imvia'"
      ],
      "metadata": {
        "id": "KdKwK_QABxBq"
      },
      "execution_count": null,
      "outputs": []
    },
    {
      "cell_type": "code",
      "source": [
        "!unzip -q falldataset-imvia.zip -d falldataset-imvia"
      ],
      "metadata": {
        "id": "clzta_8rCsZw"
      },
      "execution_count": 5,
      "outputs": []
    },
    {
      "cell_type": "code",
      "source": [
        "!rm falldataset-imvia.zip"
      ],
      "metadata": {
        "id": "I5InqOQK4xFS"
      },
      "execution_count": 6,
      "outputs": []
    },
    {
      "cell_type": "code",
      "source": [
        "!mkdir /content/le2i_videos/"
      ],
      "metadata": {
        "id": "XXcuxcSN0AUL"
      },
      "execution_count": 7,
      "outputs": []
    },
    {
      "cell_type": "code",
      "source": [
        "\n",
        "import cv2\n",
        "import os\n",
        "import numpy as np\n",
        "import glob\n",
        "from tqdm import tqdm\n",
        "\n",
        "vids = '/content/le2i_videos/'\n",
        "\n",
        "def read_avi(path):\n",
        "    cap = cv2.VideoCapture(path)\n",
        "    frames = []\n",
        "    while True:\n",
        "        ret, frame = cap.read()\n",
        "        if not ret:\n",
        "            break\n",
        "        frames.append(frame)\n",
        "    cap.release()\n",
        "    return frames\n",
        "\n",
        "def write_mp4(path, frames, fps):\n",
        "    fourcc = cv2.VideoWriter_fourcc(*'mp4v')\n",
        "    out = cv2.VideoWriter(path, fourcc, fps, (frames[0].shape[1], frames[0].shape[0]))\n",
        "    for frame in frames:\n",
        "        out.write(frame)\n",
        "    out.release()\n",
        "\n",
        "avi_paths = sorted(glob.glob('/content/falldataset-imvia/**/*.avi', recursive=True))\n",
        "ii=0\n",
        "for avi_path in tqdm(avi_paths):\n",
        "    # if ii<0:\n",
        "    #     ii+=1\n",
        "    #     continue\n",
        "\n",
        "    frames = read_avi(avi_path)\n",
        "    # Write frame numbers\n",
        "    # for i, frame in enumerate(frames):\n",
        "    #     cv2.putText(frame, str(i)+'/'+str(len(frames)), (10, 20), cv2.FONT_HERSHEY_SIMPLEX, 1, (0, 0, 255), 2)\n",
        "    # Create video 25 FPS\n",
        "    new_fps = 25\n",
        "    new_frames = []\n",
        "    for i in range(0, len(frames)):\n",
        "        new_frames.append(frames[i])\n",
        "    write_mp4(vids+avi_path.split('/')[-3]+'_'+avi_path.split('/')[-1][:-4]+'.mp4', new_frames, new_fps)\n",
        "    ii+=1\n"
      ],
      "metadata": {
        "id": "la9nFMALz-uk"
      },
      "execution_count": null,
      "outputs": []
    },
    {
      "cell_type": "code",
      "source": [
        "!rm -r /content/falldataset-imvia"
      ],
      "metadata": {
        "id": "aRe0PozSJkfd"
      },
      "execution_count": 10,
      "outputs": []
    },
    {
      "cell_type": "markdown",
      "source": [
        "**URFD**"
      ],
      "metadata": {
        "id": "riqbkV-gImzP"
      }
    },
    {
      "cell_type": "code",
      "source": [
        "!mkdir /content/urfd_videos/"
      ],
      "metadata": {
        "id": "7Sgp9B0nILnO"
      },
      "execution_count": 15,
      "outputs": []
    },
    {
      "cell_type": "code",
      "source": [
        "import shutil\n",
        "import os\n",
        "from io import BytesIO\n",
        "from urllib.request import urlopen\n",
        "from zipfile import ZipFile\n",
        "import glob\n",
        "import cv2\n",
        "from tqdm import tqdm\n",
        "\n",
        "vids = '/content/urfd_videos/'\n",
        "down = '/content/downloads/'\n",
        "if not os.path.exists(down):\n",
        "  os.makedirs(down, 0o700)\n",
        "\n",
        "link = 'http://fenix.ur.edu.pl/~mkepski/ds/data/'\n",
        "\n",
        "for i in tqdm(range(1,31)):\n",
        "  dir_name = 'fall-'+f'{i:02d}'+'-cam0-rgb'\n",
        "\n",
        "\n",
        "  with urlopen(link+dir_name+'.zip') as zipresp:\n",
        "    with ZipFile(BytesIO(zipresp.read())) as zfile:\n",
        "      zfile.extractall(down)\n",
        "\n",
        "  image_files = sorted(glob.glob(down+ dir_name + '/*.png'))\n",
        "\n",
        "  # Create a VideoWriter object\n",
        "  out_filename = vids + dir_name + '.mp4'\n",
        "  fourcc = cv2.VideoWriter_fourcc(*'mp4v')\n",
        "  out = cv2.VideoWriter(out_filename, fourcc, 30.0, (640, 480))\n",
        "\n",
        "  # Iterate through each frame and add frame number\n",
        "  # for idx, img_path in enumerate(image_files):\n",
        "  #     frame = cv2.imread(img_path)\n",
        "  #     cv2.putText(frame, f'Frame: {idx}/{len(image_files)}', (10, 20), cv2.FONT_HERSHEY_SIMPLEX, 0.5, (255, 255, 255), 1, cv2.LINE_AA)\n",
        "  #     out.write(frame)\n",
        "\n",
        "  # Release the VideoWriter object\n",
        "  out.release()\n",
        "\n",
        "  shutil.rmtree(down+dir_name)\n",
        "\n",
        "for i in tqdm(range(1,31)):\n",
        "  dir_name = 'fall-'+f'{i:02d}'+'-cam1-rgb'\n",
        "\n",
        "\n",
        "  with urlopen(link+dir_name+'.zip') as zipresp:\n",
        "    with ZipFile(BytesIO(zipresp.read())) as zfile:\n",
        "      zfile.extractall(down)\n",
        "  image_files = sorted(glob.glob(down+ dir_name + '/*.png'))\n",
        "\n",
        "  # Create a VideoWriter object\n",
        "  out_filename = vids + dir_name + '.mp4'\n",
        "  fourcc = cv2.VideoWriter_fourcc(*'mp4v')\n",
        "  out = cv2.VideoWriter(out_filename, fourcc, 30.0, (640, 480))\n",
        "\n",
        "  # Iterate through each frame and add frame number\n",
        "  # for idx, img_path in enumerate(image_files):\n",
        "  #     frame = cv2.imread(img_path)\n",
        "  #     cv2.putText(frame, f'Frame: {idx}/{len(image_files)}', (10, 20), cv2.FONT_HERSHEY_SIMPLEX, 0.5, (255, 255, 255), 1, cv2.LINE_AA)\n",
        "  #     out.write(frame)\n",
        "\n",
        "  # Release the VideoWriter object\n",
        "  out.release()\n",
        "\n",
        "\n",
        "  shutil.rmtree(down+dir_name)\n",
        "\n",
        "for i in tqdm(range(1,41)):\n",
        "  dir_name = 'adl-'+f'{i:02d}'+'-cam0-rgb'\n",
        "\n",
        "\n",
        "  with urlopen(link+dir_name+'.zip') as zipresp:\n",
        "    with ZipFile(BytesIO(zipresp.read())) as zfile:\n",
        "      zfile.extractall(down)\n",
        "  image_files = sorted(glob.glob(down+ dir_name + '/*.png'))\n",
        "\n",
        "  # Create a VideoWriter object\n",
        "  out_filename = vids + dir_name + '.mp4'\n",
        "  fourcc = cv2.VideoWriter_fourcc(*'mp4v')\n",
        "  out = cv2.VideoWriter(out_filename, fourcc, 30.0, (640, 480))\n",
        "\n",
        "  # Iterate through each frame and add frame number\n",
        "  # for idx, img_path in enumerate(image_files):\n",
        "  #     frame = cv2.imread(img_path)\n",
        "  #     cv2.putText(frame, f'Frame: {idx}/{len(image_files)}', (10, 20), cv2.FONT_HERSHEY_SIMPLEX, 0.5, (255, 255, 255), 1, cv2.LINE_AA)\n",
        "  #     out.write(frame)\n",
        "\n",
        "  # Release the VideoWriter object\n",
        "  out.release()\n",
        "\n",
        "  shutil.rmtree(down+dir_name)\n"
      ],
      "metadata": {
        "id": "b_BzGnt1IJkw"
      },
      "execution_count": null,
      "outputs": []
    },
    {
      "cell_type": "markdown",
      "source": [
        "**upfall** drive folder https://drive.google.com/drive/folders/1AItqj3Ue-iv7NSdR7Qta1Ez4spRjCo58\n",
        "shared folder should be added to drive."
      ],
      "metadata": {
        "id": "nFA7SRx19HOq"
      }
    },
    {
      "cell_type": "code",
      "source": [
        "from google.colab import drive\n",
        "drive.mount('/content/drive')"
      ],
      "metadata": {
        "id": "kiO8si6jz_iN"
      },
      "execution_count": null,
      "outputs": []
    },
    {
      "cell_type": "code",
      "source": [
        "!mkdir /content/upfall_videos/"
      ],
      "metadata": {
        "id": "atJl63GsKz0l"
      },
      "execution_count": 9,
      "outputs": []
    },
    {
      "cell_type": "code",
      "source": [
        "import glob\n",
        "import zipfile\n",
        "import os\n",
        "import shutil\n",
        "import re\n",
        "import cv2\n",
        "from tqdm import tqdm\n",
        "\n",
        "def extract_numeric_values(filename):\n",
        "    # Use regular expressions to extract numeric values from the filename\n",
        "    matches = re.findall(r'\\d+', filename)\n",
        "    return [int(match) for match in matches]\n",
        "\n",
        "filenames = sorted(glob.glob('/content/drive/MyDrive/updf-share/UP-Fall Detection/*/*/*/*.zip'),key=extract_numeric_values)\n",
        "\n",
        "ii=1\n",
        "\n",
        "down = '/content/downloads/'\n",
        "vids = '/content/upfall_videos/'\n",
        "if not os.path.exists(down):\n",
        "     os.makedirs(down, 0o700)\n",
        "\n",
        "for filename in tqdm(filenames):\n",
        "\n",
        "  # if ii<1:\n",
        "  #   ii+=1\n",
        "  #   continue\n",
        "  # if ii%2==0: #for single camera\n",
        "  #   ii+=1\n",
        "  #   continue\n",
        "\n",
        "  dir_name = down + filename.split('/')[-1][:-11]+filename.split('/')[-1][-5:-4]\n",
        "  with zipfile.ZipFile(filename, 'r') as zip_ref:\n",
        "    os.mkdir(dir_name)\n",
        "    zip_ref.extractall(dir_name)\n",
        "  if ii==388:\n",
        "    os.remove('/content/downloads/Subject6Activity10Trial22/2018-07-06T12_03_04.483526.png') #this image is empty\n",
        "\n",
        "  image_files = sorted(glob.glob(dir_name + '/*.png'))\n",
        "\n",
        "      # Create a VideoWriter object\n",
        "  out_filename = vids + filename.split('/')[-1][:-11] + filename.split('/')[-1][-5:-4] + '.mp4'\n",
        "  fourcc = cv2.VideoWriter_fourcc(*'mp4v')\n",
        "  out = cv2.VideoWriter(out_filename, fourcc, 20.0, (640, 480))\n",
        "\n",
        "  # Iterate through each frame and add frame number\n",
        "  # for idx, img_path in enumerate(image_files):\n",
        "  #     frame = cv2.imread(img_path)\n",
        "  #     cv2.putText(frame, f'Frame: {idx}/{len(image_files)}', (10, 20), cv2.FONT_HERSHEY_SIMPLEX, 0.5, (255, 255, 255), 1, cv2.LINE_AA)\n",
        "  #     out.write(frame)\n",
        "\n",
        "  # Release the VideoWriter object\n",
        "  out.release()\n",
        "\n",
        "  shutil.rmtree(dir_name)\n",
        "  ii+=1\n"
      ],
      "metadata": {
        "id": "R-Jq7pSuAgLB"
      },
      "execution_count": null,
      "outputs": []
    },
    {
      "cell_type": "markdown",
      "source": [
        "**Multicam Fall Detection**"
      ],
      "metadata": {
        "id": "KiIY4P1aPZfW"
      }
    },
    {
      "cell_type": "code",
      "source": [
        "!wget http://www.iro.umontreal.ca/~labimage/Dataset/dataset.zip"
      ],
      "metadata": {
        "id": "2imd2OzalTYO"
      },
      "execution_count": null,
      "outputs": []
    },
    {
      "cell_type": "code",
      "source": [
        "!unzip -q dataset.zip"
      ],
      "metadata": {
        "id": "BXNbTIkAmX31"
      },
      "execution_count": 14,
      "outputs": []
    },
    {
      "cell_type": "code",
      "source": [
        "!mkdir /content/multicam_videos/"
      ],
      "metadata": {
        "id": "TbEQgV1aPyUX"
      },
      "execution_count": 15,
      "outputs": []
    },
    {
      "cell_type": "code",
      "source": [
        "# prompt: read avi files in 120 fps write frame numbers and create video 30 fps\n",
        "\n",
        "import cv2\n",
        "import os\n",
        "import numpy as np\n",
        "import glob\n",
        "from tqdm import tqdm\n",
        "\n",
        "vids = '/content/multicam_videos/'\n",
        "\n",
        "def read_avi(path):\n",
        "    cap = cv2.VideoCapture(path)\n",
        "    frames = []\n",
        "    while True:\n",
        "        ret, frame = cap.read()\n",
        "        if not ret:\n",
        "            break\n",
        "        frames.append(frame)\n",
        "    cap.release()\n",
        "    return frames\n",
        "\n",
        "def write_mp4(path, frames, fps):\n",
        "    fourcc = cv2.VideoWriter_fourcc(*'mp4v')\n",
        "    out = cv2.VideoWriter(path, fourcc, fps, (frames[0].shape[1], frames[0].shape[0]))\n",
        "    for frame in frames:\n",
        "        out.write(frame)\n",
        "    out.release()\n",
        "\n",
        "avi_paths = glob.glob('/content/dataset/*/*.avi')\n",
        "ii=0\n",
        "for avi_path in tqdm(avi_paths):\n",
        "    # if ii<0:\n",
        "    #     ii+=1\n",
        "    #     continue\n",
        "\n",
        "    frames = read_avi(avi_path)\n",
        "    # Write frame numbers\n",
        "    for i, frame in enumerate(frames):\n",
        "        cv2.putText(frame, str(i)+'/'+str(len(frames)), (10, 20), cv2.FONT_HERSHEY_SIMPLEX, 1, (0, 0, 255), 2)\n",
        "    # Create video 30 FPS\n",
        "    new_fps = 30\n",
        "    new_frames = []\n",
        "    for i in range(0, len(frames)):\n",
        "        new_frames.append(frames[i])\n",
        "    write_mp4(vids+avi_path.split('/')[-2]+'_'+avi_path.split('/')[-1][:-4]+'.mp4', new_frames, new_fps)\n",
        "    ii+=1\n"
      ],
      "metadata": {
        "id": "RS6iiBWglkhf"
      },
      "execution_count": null,
      "outputs": []
    }
  ]
}