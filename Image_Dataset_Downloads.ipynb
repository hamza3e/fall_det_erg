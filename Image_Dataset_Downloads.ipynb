{
  "nbformat": 4,
  "nbformat_minor": 0,
  "metadata": {
    "colab": {
      "provenance": [],
      "authorship_tag": "ABX9TyP98YTAE/+8+BVQzka6afRf",
      "include_colab_link": true
    },
    "kernelspec": {
      "name": "python3",
      "display_name": "Python 3"
    },
    "language_info": {
      "name": "python"
    }
  },
  "cells": [
    {
      "cell_type": "markdown",
      "metadata": {
        "id": "view-in-github",
        "colab_type": "text"
      },
      "source": [
        "<a href=\"https://colab.research.google.com/github/hamza3e/fall_det_erg/blob/main/Image_Dataset_Downloads.ipynb\" target=\"_parent\"><img src=\"https://colab.research.google.com/assets/colab-badge.svg\" alt=\"Open In Colab\"/></a>"
      ]
    },
    {
      "cell_type": "markdown",
      "source": [
        "# **Downloading Datasets as Image**\n",
        "\n",
        "\n"
      ],
      "metadata": {
        "id": "5sCdGPJuf8AI"
      }
    },
    {
      "cell_type": "code",
      "source": [
        "mkdir /content/fall_image_datasets/"
      ],
      "metadata": {
        "id": "A3qvuPF-hkWT"
      },
      "execution_count": 1,
      "outputs": []
    },
    {
      "cell_type": "markdown",
      "source": [
        "**le2i** from kaggle. kaggle.json file should be added to content folder"
      ],
      "metadata": {
        "id": "_rKgZAwWGzzU"
      }
    },
    {
      "cell_type": "code",
      "execution_count": 2,
      "metadata": {
        "id": "IbY09UTmA8Yy"
      },
      "outputs": [],
      "source": [
        "! pip install -q kaggle"
      ]
    },
    {
      "cell_type": "code",
      "source": [
        "! mkdir ~/.kaggle\n",
        "\n",
        "! cp kaggle.json ~/.kaggle/"
      ],
      "metadata": {
        "id": "10Y_Two1BjAb"
      },
      "execution_count": 3,
      "outputs": []
    },
    {
      "cell_type": "code",
      "source": [
        "! chmod 600 ~/.kaggle/kaggle.json"
      ],
      "metadata": {
        "id": "Lmqwvi5_BuiR"
      },
      "execution_count": null,
      "outputs": []
    },
    {
      "cell_type": "code",
      "source": [
        "!kaggle datasets download -d 'tuyenldvn/falldataset-imvia'"
      ],
      "metadata": {
        "id": "KdKwK_QABxBq",
        "colab": {
          "base_uri": "https://localhost:8080/"
        },
        "outputId": "dd0a2257-40e9-4129-ac2c-266823393b28"
      },
      "execution_count": 5,
      "outputs": [
        {
          "output_type": "stream",
          "name": "stdout",
          "text": [
            "Downloading falldataset-imvia.zip to /content\n",
            "100% 9.36G/9.37G [01:51<00:00, 117MB/s]\n",
            "100% 9.37G/9.37G [01:51<00:00, 90.3MB/s]\n"
          ]
        }
      ]
    },
    {
      "cell_type": "code",
      "source": [
        "!unzip -q falldataset-imvia.zip -d falldataset-imvia"
      ],
      "metadata": {
        "id": "clzta_8rCsZw"
      },
      "execution_count": 6,
      "outputs": []
    },
    {
      "cell_type": "code",
      "source": [
        "!rm falldataset-imvia.zip"
      ],
      "metadata": {
        "id": "I5InqOQK4xFS"
      },
      "execution_count": 7,
      "outputs": []
    },
    {
      "cell_type": "code",
      "source": [
        "!mkdir /content/fall_image_datasets/le2i/"
      ],
      "metadata": {
        "id": "XXcuxcSN0AUL"
      },
      "execution_count": 8,
      "outputs": []
    },
    {
      "cell_type": "code",
      "source": [
        "import cv2\n",
        "import os\n",
        "import numpy as np\n",
        "\n",
        "def read_avi(folder, video_name, path):\n",
        "\n",
        "    output_dir = os.path.join(folder, video_name)\n",
        "    os.makedirs(output_dir, exist_ok=True)\n",
        "\n",
        "    cap = cv2.VideoCapture(path)\n",
        "    frame_count = int(cap.get(cv2.CAP_PROP_FRAME_COUNT))\n",
        "    fps = int(cap.get(cv2.CAP_PROP_FPS))\n",
        "\n",
        "    if fps == 120: #for multicam\n",
        "        fps = 30\n",
        "    frame_numbers = [int(i) for i in np.linspace(0, frame_count, frame_count // fps * 10)]\n",
        "\n",
        "    index = 0\n",
        "    for i in range(0, frame_count):\n",
        "        ret, frame = cap.read()\n",
        "        if not ret:\n",
        "            break\n",
        "\n",
        "        if i in frame_numbers:\n",
        "            frame_name = f'{index:05d}.jpg'  # Change the image format to JPEG\n",
        "            frame_path = os.path.join(output_dir, frame_name)\n",
        "            cv2.imwrite(frame_path, frame, [cv2.IMWRITE_JPEG_QUALITY, 90])  # Adjust quality if using JPEG\n",
        "            index += 1\n",
        "\n",
        "    cap.release()"
      ],
      "metadata": {
        "id": "pAPFUEag3lPT"
      },
      "execution_count": 25,
      "outputs": []
    },
    {
      "cell_type": "code",
      "source": [
        "import glob\n",
        "from tqdm import tqdm\n",
        "\n",
        "img_folder = '/content/fall_image_datasets/le2i/'\n",
        "\n",
        "avi_paths = sorted(glob.glob('/content/falldataset-imvia/**/*.avi', recursive=True))\n",
        "\n",
        "for avi_path in tqdm(avi_paths):\n",
        "    video_name = avi_path.split('/')[-3]+'_'+avi_path.split('/')[-1][:-4]\n",
        "    read_avi(img_folder, video_name, avi_path)\n"
      ],
      "metadata": {
        "id": "la9nFMALz-uk",
        "colab": {
          "base_uri": "https://localhost:8080/"
        },
        "outputId": "89fb007b-138f-409b-fc2a-4e021a479e90"
      },
      "execution_count": 12,
      "outputs": [
        {
          "output_type": "stream",
          "name": "stderr",
          "text": [
            "100%|██████████| 190/190 [02:53<00:00,  1.09it/s]\n"
          ]
        }
      ]
    },
    {
      "cell_type": "code",
      "source": [
        "!rm -r /content/falldataset-imvia"
      ],
      "metadata": {
        "id": "aRe0PozSJkfd"
      },
      "execution_count": 13,
      "outputs": []
    },
    {
      "cell_type": "markdown",
      "source": [
        "**Multicam Fall Detection**"
      ],
      "metadata": {
        "id": "KiIY4P1aPZfW"
      }
    },
    {
      "cell_type": "code",
      "source": [
        "!wget http://www.iro.umontreal.ca/~labimage/Dataset/dataset.zip"
      ],
      "metadata": {
        "id": "2imd2OzalTYO",
        "colab": {
          "base_uri": "https://localhost:8080/"
        },
        "outputId": "9facdabe-df80-4011-fcbe-8277efb4814e"
      },
      "execution_count": null,
      "outputs": [
        {
          "output_type": "stream",
          "name": "stdout",
          "text": [
            "--2023-12-05 17:49:28--  http://www.iro.umontreal.ca/~labimage/Dataset/dataset.zip\n",
            "Resolving www.iro.umontreal.ca (www.iro.umontreal.ca)... 132.204.26.36\n",
            "Connecting to www.iro.umontreal.ca (www.iro.umontreal.ca)|132.204.26.36|:80... connected.\n",
            "HTTP request sent, awaiting response... 200 OK\n",
            "Length: 3782815282 (3.5G) [application/zip]\n",
            "Saving to: ‘dataset.zip’\n",
            "\n",
            "dataset.zip         100%[===================>]   3.52G  25.2MB/s    in 1m 48s  \n",
            "\n",
            "2023-12-05 17:51:16 (33.5 MB/s) - ‘dataset.zip’ saved [3782815282/3782815282]\n",
            "\n"
          ]
        }
      ]
    },
    {
      "cell_type": "code",
      "source": [
        "!unzip -q dataset.zip"
      ],
      "metadata": {
        "id": "BXNbTIkAmX31"
      },
      "execution_count": null,
      "outputs": []
    },
    {
      "cell_type": "code",
      "source": [
        "!mkdir /content/fall_image_datasets/multicam/"
      ],
      "metadata": {
        "id": "TbEQgV1aPyUX"
      },
      "execution_count": null,
      "outputs": []
    },
    {
      "cell_type": "code",
      "source": [
        "# avi files in 120 fps into 30 fps\n",
        "\n",
        "import cv2\n",
        "import os\n",
        "import numpy as np\n",
        "import glob\n",
        "from tqdm import tqdm\n",
        "\n",
        "img_folder = '/content/fall_image_datasets/multicam/'\n",
        "\n",
        "avi_paths = glob.glob('/content/dataset/*/*.avi')\n",
        "\n",
        "for avi_path in tqdm(avi_paths):\n",
        "    video_name = avi_path.split('/')[-2]+'_'+avi_path.split('/')[-1][:-4]\n",
        "    read_avi(img_folder, video_name, avi_path)\n"
      ],
      "metadata": {
        "id": "RS6iiBWglkhf",
        "colab": {
          "base_uri": "https://localhost:8080/"
        },
        "outputId": "5b579f67-9071-45cf-b671-1084cf8c525f"
      },
      "execution_count": 29,
      "outputs": [
        {
          "output_type": "stream",
          "name": "stderr",
          "text": [
            "100%|██████████| 192/192 [24:42<00:00,  7.72s/it]\n"
          ]
        }
      ]
    },
    {
      "cell_type": "code",
      "source": [
        "!rm -r /content/datasets/\n",
        "!rm dataset.zip"
      ],
      "metadata": {
        "id": "c3V5JQYFOIi6"
      },
      "execution_count": null,
      "outputs": []
    },
    {
      "cell_type": "markdown",
      "source": [
        "**URFD**"
      ],
      "metadata": {
        "id": "riqbkV-gImzP"
      }
    },
    {
      "cell_type": "code",
      "source": [
        "!mkdir /content/fall_image_datasets/urfd/"
      ],
      "metadata": {
        "id": "7Sgp9B0nILnO"
      },
      "execution_count": 14,
      "outputs": []
    },
    {
      "cell_type": "code",
      "source": [
        "def save_images(output_dir, image_files, fps):\n",
        "    os.makedirs(output_dir, exist_ok=True)\n",
        "    index = 0\n",
        "    # Iterate through each frame and add frame number\n",
        "    for idx, img_path in enumerate(image_files):\n",
        "        if idx % int(fps/10) == 0:\n",
        "            frame = cv2.imread(img_path)\n",
        "            frame_name = f'{index:05d}.jpg'  # Change the image format to JPEG\n",
        "            frame_path = os.path.join(output_dir, frame_name)\n",
        "            cv2.imwrite(frame_path, frame, [cv2.IMWRITE_JPEG_QUALITY, 90])  # Adjust quality if using JPEG\n",
        "            index += 1\n",
        ""
      ],
      "metadata": {
        "id": "A6qt4sF37zzW"
      },
      "execution_count": 22,
      "outputs": []
    },
    {
      "cell_type": "code",
      "source": [
        "import shutil\n",
        "import os\n",
        "from io import BytesIO\n",
        "from urllib.request import urlopen\n",
        "from zipfile import ZipFile\n",
        "import glob\n",
        "import cv2\n",
        "from tqdm import tqdm\n",
        "\n",
        "img_folder = '/content/fall_image_datasets/urfd/'\n",
        "down = '/content/downloads/'\n",
        "if not os.path.exists(down):\n",
        "    os.makedirs(down, 0o700)\n",
        "\n",
        "link = 'http://fenix.ur.edu.pl/~mkepski/ds/data/'\n",
        "\n",
        "for i in tqdm(range(1,31)):\n",
        "    dir_name = 'fall-'+f'{i:02d}'+'-cam0-rgb'\n",
        "\n",
        "    with urlopen(link+dir_name+'.zip') as zipresp:\n",
        "        with ZipFile(BytesIO(zipresp.read())) as zfile:\n",
        "            zfile.extractall(down)\n",
        "\n",
        "    image_files = sorted(glob.glob(down+ dir_name + '/*.png'))\n",
        "    save_images(img_folder+dir_name, image_files, fps=30)\n",
        "\n",
        "    shutil.rmtree(down+dir_name)\n",
        "\n",
        "for i in tqdm(range(1,31)):\n",
        "    dir_name = 'fall-'+f'{i:02d}'+'-cam1-rgb'\n",
        "\n",
        "    with urlopen(link+dir_name+'.zip') as zipresp:\n",
        "        with ZipFile(BytesIO(zipresp.read())) as zfile:\n",
        "            zfile.extractall(down)\n",
        "\n",
        "    image_files = sorted(glob.glob(down+ dir_name + '/*.png'))\n",
        "    save_images(img_folder+dir_name, image_files, fps=30)\n",
        "\n",
        "    shutil.rmtree(down+dir_name)\n",
        "\n",
        "for i in tqdm(range(1,41)):\n",
        "    dir_name = 'adl-'+f'{i:02d}'+'-cam0-rgb'\n",
        "\n",
        "    with urlopen(link+dir_name+'.zip') as zipresp:\n",
        "        with ZipFile(BytesIO(zipresp.read())) as zfile:\n",
        "            zfile.extractall(down)\n",
        "\n",
        "    image_files = sorted(glob.glob(down+ dir_name + '/*.png'))\n",
        "    save_images(img_folder+dir_name, image_files, fps=30)\n",
        "\n",
        "    shutil.rmtree(down+dir_name)\n"
      ],
      "metadata": {
        "id": "b_BzGnt1IJkw",
        "colab": {
          "base_uri": "https://localhost:8080/"
        },
        "outputId": "5d427a85-a0db-4fc8-facf-1f2c41b4a27b"
      },
      "execution_count": 16,
      "outputs": [
        {
          "output_type": "stream",
          "name": "stderr",
          "text": [
            "100%|██████████| 30/30 [02:26<00:00,  4.87s/it]\n",
            "100%|██████████| 30/30 [02:01<00:00,  4.05s/it]\n",
            "100%|██████████| 40/40 [05:25<00:00,  8.15s/it]\n"
          ]
        }
      ]
    },
    {
      "cell_type": "markdown",
      "source": [
        "**upfall** drive folder https://drive.google.com/drive/folders/1AItqj3Ue-iv7NSdR7Qta1Ez4spRjCo58\n",
        "shared folder should be added to drive."
      ],
      "metadata": {
        "id": "nFA7SRx19HOq"
      }
    },
    {
      "cell_type": "code",
      "source": [
        "from google.colab import drive\n",
        "drive.mount('/content/drive')"
      ],
      "metadata": {
        "id": "kiO8si6jz_iN",
        "colab": {
          "base_uri": "https://localhost:8080/"
        },
        "outputId": "54bc39f9-8b8a-4397-cca3-75fd1189f193"
      },
      "execution_count": 17,
      "outputs": [
        {
          "output_type": "stream",
          "name": "stdout",
          "text": [
            "Mounted at /content/drive\n"
          ]
        }
      ]
    },
    {
      "cell_type": "code",
      "source": [
        "!mkdir /content/fall_image_datasets/upfall/"
      ],
      "metadata": {
        "id": "atJl63GsKz0l"
      },
      "execution_count": 18,
      "outputs": []
    },
    {
      "cell_type": "code",
      "source": [
        "import glob\n",
        "import zipfile\n",
        "import os\n",
        "import shutil\n",
        "import re\n",
        "import cv2\n",
        "from tqdm import tqdm\n",
        "\n",
        "def extract_numeric_values(filename):\n",
        "    # Use regular expressions to extract numeric values from the filename\n",
        "    matches = re.findall(r'\\d+', filename)\n",
        "    return [int(match) for match in matches]\n",
        "\n",
        "filenames = sorted(glob.glob('/content/drive/MyDrive/updf-share/UP-Fall Detection/*/*/*/*.zip'),key=extract_numeric_values)\n",
        "\n",
        "ii=1\n",
        "\n",
        "down = '/content/downloads/'\n",
        "img_folder = '/content/fall_image_datasets/upfall/'\n",
        "if not os.path.exists(down):\n",
        "     os.makedirs(down, 0o700)\n",
        "\n",
        "for filename in tqdm(filenames):\n",
        "\n",
        "    dir_name = filename.split('/')[-1][:-11]+filename.split('/')[-1][-5:-4]\n",
        "    with zipfile.ZipFile(filename, 'r') as zip_ref:\n",
        "        os.mkdir(down + dir_name)\n",
        "        zip_ref.extractall(down + dir_name)\n",
        "    if ii==388:\n",
        "        os.remove('/content/downloads/Subject6Activity10Trial22/2018-07-06T12_03_04.483526.png') #this image is empty\n",
        "\n",
        "    image_files = sorted(glob.glob(down + dir_name + '/*.png'))\n",
        "\n",
        "    save_images(img_folder+dir_name, image_files, fps=20)\n",
        "    shutil.rmtree(down+dir_name)\n",
        "    ii+=1\n"
      ],
      "metadata": {
        "id": "R-Jq7pSuAgLB",
        "colab": {
          "base_uri": "https://localhost:8080/"
        },
        "outputId": "90370765-551c-4ad7-f19c-aeffeb834296"
      },
      "execution_count": 28,
      "outputs": [
        {
          "output_type": "stream",
          "name": "stderr",
          "text": [
            "100%|██████████| 1118/1118 [3:38:12<00:00, 11.71s/it]\n"
          ]
        }
      ]
    },
    {
      "cell_type": "code",
      "source": [
        "# # if you want to save these files on your drive, you can simply move them as below.\n",
        "# # be careful, it may not fit into your storage due to its size.\n",
        "# !mv /content/fall_image_datasets /content/drive/MyDrive/"
      ],
      "metadata": {
        "id": "UG9dcY2qmd8v"
      },
      "execution_count": null,
      "outputs": []
    }
  ]
}